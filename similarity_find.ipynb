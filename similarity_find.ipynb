{
  "nbformat": 4,
  "nbformat_minor": 0,
  "metadata": {
    "colab": {
      "name": "similarity_find.ipynb",
      "provenance": [],
      "collapsed_sections": [],
      "toc_visible": true,
      "machine_shape": "hm"
    },
    "kernelspec": {
      "name": "python3",
      "display_name": "Python 3"
    },
    "accelerator": "GPU"
  },
  "cells": [
    {
      "cell_type": "markdown",
      "metadata": {
        "id": "ITUXP7CVLYVh",
        "colab_type": "text"
      },
      "source": [
        "## Downloading the data"
      ]
    },
    {
      "cell_type": "code",
      "metadata": {
        "id": "daqNBCZXJmhq",
        "colab_type": "code",
        "outputId": "bedd1abf-fca1-4257-9261-bc4889796df8",
        "colab": {
          "base_uri": "https://localhost:8080/",
          "height": 224
        }
      },
      "source": [
        "!wget \"http://aws-proserve-data-science.s3.amazonaws.com/geological_similarity.zip\"\n"
      ],
      "execution_count": 1,
      "outputs": [
        {
          "output_type": "stream",
          "text": [
            "--2020-03-22 08:02:09--  http://aws-proserve-data-science.s3.amazonaws.com/geological_similarity.zip\n",
            "Resolving aws-proserve-data-science.s3.amazonaws.com (aws-proserve-data-science.s3.amazonaws.com)... 52.218.228.35\n",
            "Connecting to aws-proserve-data-science.s3.amazonaws.com (aws-proserve-data-science.s3.amazonaws.com)|52.218.228.35|:80... connected.\n",
            "HTTP request sent, awaiting response... 200 OK\n",
            "Length: 35312590 (34M) [application/zip]\n",
            "Saving to: ‘geological_similarity.zip’\n",
            "\n",
            "\r          geologica   0%[                    ]       0  --.-KB/s               \r         geological   0%[                    ]  51.35K   192KB/s               \r        geological_   0%[                    ] 227.55K   425KB/s               \r       geological_s   2%[                    ] 831.68K  1.01MB/s               \r      geological_si   9%[>                   ]   3.27M  3.06MB/s               \r     geological_sim  27%[====>               ]   9.24M  6.91MB/s               \r    geological_simi  45%[========>           ]  15.23M  9.49MB/s               \r   geological_simil  62%[===========>        ]  21.20M  11.3MB/s               \r  geological_simila  80%[===============>    ]  27.09M  12.7MB/s               \r geological_similar  98%[==================> ]  33.03M  13.7MB/s               \rgeological_similari 100%[===================>]  33.68M  14.0MB/s    in 2.4s    \n",
            "\n",
            "2020-03-22 08:02:11 (14.0 MB/s) - ‘geological_similarity.zip’ saved [35312590/35312590]\n",
            "\n"
          ],
          "name": "stdout"
        }
      ]
    },
    {
      "cell_type": "markdown",
      "metadata": {
        "id": "qTNmsakrJnmV",
        "colab_type": "text"
      },
      "source": [
        "## Unzipping the data"
      ]
    },
    {
      "cell_type": "code",
      "metadata": {
        "id": "6OPJRvheJuSz",
        "colab_type": "code",
        "colab": {}
      },
      "source": [
        "!unzip geological_similarity.zip"
      ],
      "execution_count": 0,
      "outputs": []
    },
    {
      "cell_type": "code",
      "metadata": {
        "id": "s1uPMYF3MHdM",
        "colab_type": "code",
        "colab": {}
      },
      "source": [
        "!ls -l"
      ],
      "execution_count": 0,
      "outputs": []
    },
    {
      "cell_type": "markdown",
      "metadata": {
        "id": "8jPy9ZrKRgX6",
        "colab_type": "text"
      },
      "source": [
        "### Importing necessary libraries"
      ]
    },
    {
      "cell_type": "code",
      "metadata": {
        "id": "O-vuL51GMusO",
        "colab_type": "code",
        "colab": {}
      },
      "source": [
        "import glob\n",
        "import matplotlib.pyplot as plt\n",
        "from PIL import Image\n",
        "import pandas as pd\n",
        "import numpy as np\n",
        "from keras.applications.vgg16 import VGG16\n",
        "from keras.applications.vgg16 import preprocess_input\n"
      ],
      "execution_count": 0,
      "outputs": []
    },
    {
      "cell_type": "code",
      "metadata": {
        "id": "5jEEUROXNFTc",
        "colab_type": "code",
        "colab": {}
      },
      "source": [
        "file_paths = glob.glob('geological_similarity/*/*.jpg',recursive=True)\n",
        "file_paths"
      ],
      "execution_count": 0,
      "outputs": []
    },
    {
      "cell_type": "code",
      "metadata": {
        "id": "Gz7foMx9NZ2J",
        "colab_type": "code",
        "outputId": "9937a178-5069-4bb1-cff6-57a0b8e800e9",
        "colab": {
          "base_uri": "https://localhost:8080/",
          "height": 34
        }
      },
      "source": [
        "print(\"Number of images\",len(file_paths))"
      ],
      "execution_count": 50,
      "outputs": [
        {
          "output_type": "stream",
          "text": [
            "Number of images 29998\n"
          ],
          "name": "stdout"
        }
      ]
    },
    {
      "cell_type": "code",
      "metadata": {
        "id": "Ls-gojFsODit",
        "colab_type": "code",
        "colab": {}
      },
      "source": [
        "file_paths_df = pd.DataFrame(file_paths,columns=['paths'])"
      ],
      "execution_count": 0,
      "outputs": []
    },
    {
      "cell_type": "code",
      "metadata": {
        "id": "lO3xh_FzPSBp",
        "colab_type": "code",
        "colab": {}
      },
      "source": [
        "file_paths_df['broad_class_labels'] = file_paths_df['paths'].apply(lambda x: x.split(\"/\")[1])"
      ],
      "execution_count": 0,
      "outputs": []
    },
    {
      "cell_type": "code",
      "metadata": {
        "id": "T1pqAmzSQVvT",
        "colab_type": "code",
        "outputId": "0a32e4ca-de05-48f3-cb12-070cf30cec50",
        "colab": {
          "base_uri": "https://localhost:8080/",
          "height": 153
        }
      },
      "source": [
        "print(\"Division per broad class labels\",file_paths_df.groupby(by='broad_class_labels').count())"
      ],
      "execution_count": 33,
      "outputs": [
        {
          "output_type": "stream",
          "text": [
            "Division per broad class labels                     paths\n",
            "broad_class_labels       \n",
            "andesite             5000\n",
            "gneiss               5000\n",
            "marble               4998\n",
            "quartzite            5000\n",
            "rhyolite             5000\n",
            "schist               5000\n"
          ],
          "name": "stdout"
        }
      ]
    },
    {
      "cell_type": "markdown",
      "metadata": {
        "id": "R01QbrGPThQS",
        "colab_type": "text"
      },
      "source": [
        "### Picking pre-trained VGG16 Model and selecting the last layer before softmax, Max Pooled"
      ]
    },
    {
      "cell_type": "code",
      "metadata": {
        "id": "uPr8KaVzR9sw",
        "colab_type": "code",
        "colab": {}
      },
      "source": [
        "\n",
        "def load_model():\n",
        "  \"\"\"\n",
        "  :return: model to extract features for each image\n",
        "  \"\"\"\n",
        "  model = VGG16(weights='imagenet', include_top=False,pooling='max')\n",
        "  return model"
      ],
      "execution_count": 0,
      "outputs": []
    },
    {
      "cell_type": "markdown",
      "metadata": {
        "id": "JxAjwWqPPYBr",
        "colab_type": "text"
      },
      "source": [
        "### Functions: To obtain features from a pre-trained network"
      ]
    },
    {
      "cell_type": "code",
      "metadata": {
        "id": "eRIO64m8SDs1",
        "colab_type": "code",
        "colab": {}
      },
      "source": [
        "from keras.preprocessing import image\n",
        "import numpy as np\n",
        "from scipy.spatial.distance import pdist,squareform\n",
        "import random \n",
        "def preprocess_load(img_path,model):\n",
        "  \"\"\"\n",
        "  :param img_path: Input image path \n",
        "  :param model: Model to get image features\n",
        "  :return: Flatten features for the given image\n",
        "  \"\"\"\n",
        "  img = image.load_img(img_path, target_size=(224, 224))\n",
        "  x = image.img_to_array(img)\n",
        "  x = np.expand_dims(x, axis=0)\n",
        "  x = preprocess_input(x)\n",
        "  features = model.predict(x)\n",
        "  features = features.flatten()\n",
        "  return features\n",
        "\n",
        "def get_features(pd_df):\n",
        "  \"\"\"\n",
        "  :param pd_df: Input dataframe with paths\n",
        "  :return: Input dataframe with features\n",
        "  \"\"\"\n",
        "  model = load_model()\n",
        "  pd_df['features'] = pd_df['paths'].apply(lambda x: preprocess_load(x,model))\n",
        "  return pd_df\n",
        "\n",
        "def calculate_similarity(pd_df,dist_type):\n",
        "  \"\"\"\n",
        "  :param pd_df: Input dataframe with paths\n",
        "  :param dist_type: Distance metric\n",
        "  :return: Similarity Distance Dataframe (Matrix)\n",
        "  \"\"\"\n",
        "\n",
        "  print(\"size of features\",(pd_df['features'].iloc[0]).shape)\n",
        "  features_np = np.stack(pd_df['features'].values, axis=0)\n",
        "  features_np_dist = pdist(features_np, metric=dist_type)\n",
        "  dist_matrix = squareform(features_np_dist)\n",
        "  print(\"shape of distance matrix\", dist_matrix.shape)\n",
        "  similarity_df = pd.DataFrame(dist_matrix,columns = pd_df.paths,index=pd_df.paths)\n",
        "  return similarity_df\n"
      ],
      "execution_count": 0,
      "outputs": []
    },
    {
      "cell_type": "markdown",
      "metadata": {
        "id": "t8uKMwVxPKTy",
        "colab_type": "text"
      },
      "source": [
        "### Function to get the top 'k' similar images"
      ]
    },
    {
      "cell_type": "code",
      "metadata": {
        "id": "_OLjGnzNDby1",
        "colab_type": "code",
        "colab": {}
      },
      "source": [
        "def get_similar(idx,df,k,p_flag):\n",
        "  \"\"\"\n",
        "  :param idx: image path for given image\n",
        "  :param df: similarity distance matrix\n",
        "  :param k: top K of given image\n",
        "  :param p_flag: Boolean type (To enable prints)\n",
        "  :return: K top image paths\n",
        "  \"\"\"\n",
        "  #Check whether image is in the dataframe or not\n",
        "  ind = similar_mat.index\n",
        "  if inp_img in ind:\n",
        "    cosine_data = df.loc[idx]\n",
        "    top_5 = cosine_data.sort_values()[1:(k+1)]\n",
        "    paths = top_5.index.tolist()\n",
        "    if p_flag:\n",
        "      print(\"Found Images\",paths)\n",
        "    return paths\n",
        "  else:\n",
        "    if p_flag:\n",
        "      print(\"Input image doesnt belong in the repository\")\n",
        "    return False\n"
      ],
      "execution_count": 0,
      "outputs": []
    },
    {
      "cell_type": "markdown",
      "metadata": {
        "id": "X_GNSG02PExL",
        "colab_type": "text"
      },
      "source": [
        "#### Function to display images and calculate average mean square error\n"
      ]
    },
    {
      "cell_type": "code",
      "metadata": {
        "id": "7FFyyfFVDin8",
        "colab_type": "code",
        "colab": {}
      },
      "source": [
        "\n",
        "def show_imgs(idx,paths):\n",
        "  \"\"\"\n",
        "  Plots all image, input and output image\n",
        "  :param idx: image path for given image\n",
        "  :param paths: Similar images\n",
        "  :return: None\n",
        "  \"\"\"\n",
        "  print(\"Input image\")\n",
        "  plt.imshow(image.load_img(idx))\n",
        "  plt.show()\n",
        "  print(\"Output image\")\n",
        "  for path in paths:\n",
        "    plt.imshow(image.load_img(path))\n",
        "    plt.show()\n",
        "\n",
        "def calculate_avg_mse(img,contentders):\n",
        "  \"\"\"\n",
        "  Calculate Average Mean Square Error\n",
        "  :param idx: image path for given image\n",
        "  :param paths: Similar images\n",
        "  :return: None\n",
        "  \"\"\"\n",
        "  img_np = np.array((image.load_img(img)))/255\n",
        "  total_err = []\n",
        "  for img_c in contentders:\n",
        "    img_c_np = np.array((image.load_img(img_c)))/255\n",
        "    err = np.sum((img_np.astype(\"float\") - img_c_np.astype(\"float\")) ** 2)\n",
        "    err /= float(img_np.shape[0] * img_np.shape[1])\n",
        "    total_err.append(err)\n",
        "\n",
        "  avg_err = (np.mean(total_err))\n",
        "  return avg_err\n"
      ],
      "execution_count": 0,
      "outputs": []
    },
    {
      "cell_type": "markdown",
      "metadata": {
        "id": "NTR4Fqy5men1",
        "colab_type": "text"
      },
      "source": [
        "### Main Function, To get top K images"
      ]
    },
    {
      "cell_type": "code",
      "metadata": {
        "id": "J46wNxbJf9So",
        "colab_type": "code",
        "colab": {
          "base_uri": "https://localhost:8080/",
          "height": 170
        },
        "outputId": "4ac575fa-6618-4458-ec90-8092ea7969f9"
      },
      "source": [
        "\n",
        "if __name__ == '__main__':\n",
        "  # Calculate features for each given image\n",
        "  file_paths_df = get_features(file_paths_df)\n",
        "  # Calculate distnace matrix (Square matrix)\n",
        "  similar_mat = calculate_similarity(file_paths_df,'cityblock')\n",
        "\n",
        "  cal_metric = True\n",
        "  arr_k=[4,14]\n",
        "  t_mse = 0\n",
        "  c = 0\n",
        "  print_flag = False\n",
        "  if cal_metric:\n",
        "    k = arr_k[0]\n",
        "    for ind,g_img in file_paths_df.iterrows():\n",
        "      given_img = g_img.paths\n",
        "      s_img = get_similar(given_img,similar_mat,k,print_flag)\n",
        "      a_mse = calculate_avg_mse(given_img,s_img)\n",
        "      c += 1\n",
        "      t_mse += a_mse\n",
        "    avg_mse = t_mse/c\n",
        "    print(\"Average MSE for given Distance\",avg_mse)\n",
        "\n",
        "  # Take random image\n",
        "  r_number = random.randrange(len(file_paths_df))\n",
        "  inp_img = file_paths_df.paths.iloc[r_number]\n",
        "  print(\"Random Number\",r_number)\n",
        "  print(\"Random Input image\",inp_img)\n",
        "  # Select top K, example 4,14\n",
        "  for k in arr_k:\n",
        "    print(\"k\",k)\n",
        "    out_img = get_similar(inp_img,similar_mat,k,print_flag)\n",
        "    if out_img:\n",
        "      print(\"Average MSE for the given image and similar images is\",calculate_avg_mse(inp_img,out_img))\n",
        "      if print_flag:\n",
        "        show_imgs(inp_img,out_img)\n",
        "  \n",
        "  "
      ],
      "execution_count": 89,
      "outputs": [
        {
          "output_type": "stream",
          "text": [
            "size of features (512,)\n",
            "shape of distance matrix (29998, 29998)\n",
            "Average MSE for given Distance 0.05329145706833711\n",
            "Random Number 21940\n",
            "Random Input image geological_similarity/marble/QIN7E.jpg\n",
            "k 4\n",
            "Average MSE for the given image and similar images is 0.08848471741637831\n",
            "k 14\n",
            "Average MSE for the given image and similar images is 0.07226476725143839\n"
          ],
          "name": "stdout"
        }
      ]
    },
    {
      "cell_type": "markdown",
      "metadata": {
        "id": "qn7IESU8KeXK",
        "colab_type": "text"
      },
      "source": [
        "### Printing input image and similar images for top 4 similar image"
      ]
    },
    {
      "cell_type": "code",
      "metadata": {
        "id": "NC1XegKNH0YW",
        "colab_type": "code",
        "colab": {}
      },
      "source": [
        "out_img = get_similar(inp_img,similar_mat,4,print_flag)"
      ],
      "execution_count": 0,
      "outputs": []
    },
    {
      "cell_type": "code",
      "metadata": {
        "id": "DA0NxbdsKCV1",
        "colab_type": "code",
        "colab": {
          "base_uri": "https://localhost:8080/",
          "height": 1000
        },
        "outputId": "68c3118e-433f-4bc4-866e-90ebb43cfeec"
      },
      "source": [
        "show_imgs(inp_img,out_img)"
      ],
      "execution_count": 91,
      "outputs": [
        {
          "output_type": "stream",
          "text": [
            "Input image\n"
          ],
          "name": "stdout"
        },
        {
          "output_type": "display_data",
          "data": {
            "image/png": "[encoded data removed]",
            "text/plain": [
              "<Figure size 432x288 with 1 Axes>"
            ]
          },
          "metadata": {
            "tags": []
          }
        },
        {
          "output_type": "stream",
          "text": [
            "Output image\n"
          ],
          "name": "stdout"
        },
        {
          "output_type": "display_data",
          "data": {
            "image/png": "[encoded data removed]",
            "text/plain": [
              "<Figure size 432x288 with 1 Axes>"
            ]
          },
          "metadata": {
            "tags": []
          }
        },
        {
          "output_type": "display_data",
          "data": {
            "image/png": "[encoded data removed]",
            "text/plain": [
              "<Figure size 432x288 with 1 Axes>"
            ]
          },
          "metadata": {
            "tags": []
          }
        },
        {
          "output_type": "display_data",
          "data": {
            "image/png": "[encoded data removed]",
            "text/plain": [
              "<Figure size 432x288 with 1 Axes>"
            ]
          },
          "metadata": {
            "tags": []
          }
        },
        {
          "output_type": "display_data",
          "data": {
            "image/png": "[encoded data removed]",
            "text/plain": [
              "<Figure size 432x288 with 1 Axes>"
            ]
          },
          "metadata": {
            "tags": []
          }
        }
      ]
    }
  ]
}